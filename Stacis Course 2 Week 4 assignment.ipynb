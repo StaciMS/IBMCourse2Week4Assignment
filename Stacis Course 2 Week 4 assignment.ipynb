{
  "metadata": {
    "kernelspec": {
      "name": "python",
      "display_name": "Pyolite",
      "language": "python"
    },
    "language_info": {
      "codemirror_mode": {
        "name": "python",
        "version": 3
      },
      "file_extension": ".py",
      "mimetype": "text/x-python",
      "name": "python",
      "nbconvert_exporter": "python",
      "pygments_lexer": "ipython3",
      "version": "3.8"
    }
  },
  "nbformat_minor": 4,
  "nbformat": 4,
  "cells": [
    {
      "cell_type": "markdown",
      "source": "<center>\n    <img src=\"https://s3-api.us-geo.objectstorage.softlayer.net/cf-courses-data/CognitiveClass/Logos/organization_logo/organization_logo.png\" width=\"300\" alt=\"cognitiveclass.ai logo\"  />\n</center>\n",
      "metadata": {}
    },
    },
    {
      "cell_type": "markdown",
      "source": "# Title My Jupyter Notebook on IBM Watson Studio",
      "metadata": {}
    },
    {
      "cell_type": "markdown",
      "source": "<b> Staci Striegnitz\n    \nWeb App Data Scientist",
      "metadata": {
        "tags": []
      }
    },
    {
      "cell_type": "markdown",
      "source": "_I am looking for a new challenge in my career after spending the last 15 years in the marketing field and have seen many small and medium sized businesses make gut decisions, rather than educated and informed decisions. In school I enjoyed statistics and case studies where you thought through a problem and devise a solution. Data science fills a solution to so many industries to make better informed business and strategy decisions._",
      "metadata": {
        "tags": []
      }
    },
    {
      "cell_type": "markdown",
      "source": "### Below is a sample equation of addition",
      "metadata": {}
    },
    {
      "cell_type": "code",
      "source": "1+1",
      "metadata": {
        "trusted": true
      },
      "execution_count": 2,
      "outputs": [
        {
          "execution_count": 2,
          "output_type": "execute_result",
          "data": {
            "text/plain": "2"
          },
          "metadata": {}
        }
      ]
    },
    {
      "cell_type": "markdown",
      "source": "<a href=\"https://www.coursera.org/professional-certificates/ibm-data-science\">IBM Data Science Certificate Course</a> - Individual Progress\n<ol>\n<li><s>Course 1 - complete</s></li>\n<li>Course 2 - inprogress</li>\n<li>Course 3</li>\n<li>Course 4</li>\n<li>Course 5</li>\n<li>Course 6</li>\n<li>Course 7</li>\n<li>Course 8</li>\n<li>Course 9</li>\n<li>Course 10</li>\n</ol>",
      "metadata": {}
    },
  ]
}
